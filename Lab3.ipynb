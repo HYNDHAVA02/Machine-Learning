{
 "cells": [
  {
   "cell_type": "code",
   "execution_count": 14,
   "id": "68cf642c",
   "metadata": {},
   "outputs": [
    {
     "name": "stdout",
     "output_type": "stream",
     "text": [
      "=============Model Evaluation Results=============\n",
      "Classification Report:\n",
      "              precision    recall  f1-score   support\n",
      "\n",
      "      Answer       1.00      0.00      0.00         1\n",
      "    Question       1.00      0.40      0.57         5\n",
      "   Statement       0.20      1.00      0.33         1\n",
      "\n",
      "    accuracy                           0.43         7\n",
      "   macro avg       0.73      0.47      0.30         7\n",
      "weighted avg       0.89      0.43      0.46         7\n",
      "\n",
      "==================================================\n"
     ]
    }
   ],
   "source": [
    "import pandas as pd\n",
    "from sklearn.model_selection import train_test_split\n",
    "from sklearn.feature_extraction.text import TfidfVectorizer\n",
    "from sklearn.neighbors import KNeighborsClassifier\n",
    "from sklearn.metrics import classification_report, accuracy_score\n",
    "file_path = 'test.xlsx'\n",
    "data = pd.read_excel(file_path)\n",
    "X = data['Text']  \n",
    "y = data['Type'] \n",
    "tfidf = TfidfVectorizer(stop_words='english', max_features=1000)\n",
    "X_tfidf = tfidf.fit_transform(X)\n",
    "X_train, X_test, y_train, y_test = train_test_split(\n",
    "    X_tfidf, y, test_size=0.2, random_state=42)\n",
    "knn = KNeighborsClassifier(n_neighbors=8)\n",
    "knn.fit(X_train, y_train)\n",
    "y_pred = knn.predict(X_test)\n",
    "accuracy = accuracy_score(y_test, y_pred)\n",
    "report = classification_report(y_test, y_pred, zero_division=1)\n",
    "print(\"Model Evaluation Results\".center(50, \"=\"))\n",
    "print(\"Classification Report:\")\n",
    "print(report)\n",
    "print(\"=\" * 50)"
   ]
  },
  {
   "cell_type": "code",
   "execution_count": 3,
   "id": "8d6fd98b",
   "metadata": {},
   "outputs": [
    {
     "name": "stdout",
     "output_type": "stream",
     "text": [
      "Centroid 1 (Statement): [0.01924543 0.01637735 0.         0.         0.         0.\n",
      " 0.         0.02077157 0.02077157 0.         0.         0.02077157\n",
      " 0.         0.         0.01924543 0.         0.06666667 0.\n",
      " 0.         0.0327547  0.         0.         0.         0.01924543\n",
      " 0.02077157 0.06666667 0.06666667 0.18982242 0.02152196 0.06666667\n",
      " 0.04154313 0.         0.         0.         0.         0.03464573\n",
      " 0.02152196 0.05399586 0.         0.         0.06666667 0.\n",
      " 0.         0.06666667 0.13333333 0.         0.         0.\n",
      " 0.         0.10207044 0.        ]\n",
      "Centroid 2 (Question): [0.06923394 0.07465753 0.         0.         0.05242738 0.02680147\n",
      " 0.04524976 0.         0.         0.10790465 0.05433211 0.\n",
      " 0.03465908 0.06685026 0.04688178 0.0469479  0.         0.08773191\n",
      " 0.03099295 0.13357377 0.         0.0469479  0.07189949 0.04688178\n",
      " 0.         0.         0.         0.04384574 0.         0.\n",
      " 0.         0.13591589 0.03099295 0.05433211 0.06119194 0.\n",
      " 0.         0.1756316  0.05285988 0.         0.04858504 0.02680147\n",
      " 0.0857122  0.0239665  0.         0.06685026 0.10790465 0.\n",
      " 0.02680147 0.         0.        ]\n",
      "\n",
      "Spread 1 (Statement): [0.07200982 0.06127844 0.         0.         0.         0.\n",
      " 0.         0.07772008 0.07772008 0.         0.         0.07772008\n",
      " 0.         0.         0.07200982 0.         0.24944383 0.\n",
      " 0.         0.12255688 0.         0.         0.         0.07200982\n",
      " 0.07772008 0.24944383 0.24944383 0.38100662 0.08052779 0.24944383\n",
      " 0.15544017 0.         0.         0.         0.         0.08834566\n",
      " 0.08052779 0.13768797 0.         0.         0.24944383 0.\n",
      " 0.         0.24944383 0.33993463 0.         0.         0.\n",
      " 0.         0.273952   0.        ]\n",
      "Spread 2 (Question): [0.21893695 0.15895378 0.         0.         0.16578994 0.08475369\n",
      " 0.14309231 0.         0.         0.22890033 0.17181323 0.\n",
      " 0.10960163 0.14376255 0.14825321 0.14846231 0.         0.18679053\n",
      " 0.09800832 0.22623099 0.         0.14846231 0.22736614 0.14825321\n",
      " 0.         0.         0.         0.09393533 0.         0.\n",
      " 0.         0.22445805 0.09800832 0.17181323 0.19350589 0.\n",
      " 0.         0.19711145 0.16715761 0.         0.15363937 0.08475369\n",
      " 0.1901467  0.07578871 0.         0.14376255 0.22890033 0.\n",
      " 0.08475369 0.         0.        ]\n",
      "\n",
      "Interclass Distance between Statement and Question: 0.453022764141982\n"
     ]
    }
   ],
   "source": [
    "import pandas as pd\n",
    "import numpy as np\n",
    "from sklearn.feature_extraction.text import TfidfVectorizer\n",
    "file_path = 'test.xlsx' \n",
    "data = pd.read_excel(file_path)\n",
    "X = data['Text']  \n",
    "y = data['Type'] \n",
    "tfidf = TfidfVectorizer(stop_words='english', max_features=1000)\n",
    "X_tfidf = tfidf.fit_transform(X).toarray() \n",
    "class1_data = X_tfidf[y == 'Statement']\n",
    "class2_data = X_tfidf[y == 'Question']\n",
    "centroid1 = class1_data.mean(axis=0)\n",
    "centroid2 = class2_data.mean(axis=0)\n",
    "spread1 = class1_data.std(axis=0)\n",
    "spread2 = class2_data.std(axis=0)\n",
    "interclass_distance = np.linalg.norm(centroid1 - centroid2)\n",
    "print(\"Centroid 1 (Statement):\", centroid1)\n",
    "print(\"Centroid 2 (Question):\", centroid2)\n",
    "print(\"\\nSpread 1 (Statement):\", spread1)\n",
    "print(\"Spread 2 (Question):\", spread2)\n",
    "print(\"\\nInterclass Distance between Statement and Question:\", interclass_distance)\n"
   ]
  },
  {
   "cell_type": "code",
   "execution_count": null,
   "id": "889f7c8f",
   "metadata": {},
   "outputs": [],
   "source": []
  }
 ],
 "metadata": {
  "kernelspec": {
   "display_name": "Python 3 (ipykernel)",
   "language": "python",
   "name": "python3"
  },
  "language_info": {
   "codemirror_mode": {
    "name": "ipython",
    "version": 3
   },
   "file_extension": ".py",
   "mimetype": "text/x-python",
   "name": "python",
   "nbconvert_exporter": "python",
   "pygments_lexer": "ipython3",
   "version": "3.11.4"
  }
 },
 "nbformat": 4,
 "nbformat_minor": 5
}
