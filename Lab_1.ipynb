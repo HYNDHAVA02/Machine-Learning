{
 "cells": [
  {
   "cell_type": "markdown",
   "id": "b4430952",
   "metadata": {},
   "source": [
    "Q1.Consider the given list as [2, 7, 4, 1, 3, 6]. Write a program to count pairs of elements with sum equal to 10."
   ]
  },
  {
   "cell_type": "code",
   "execution_count": 5,
   "id": "ff5a0520",
   "metadata": {},
   "outputs": [
    {
     "name": "stdout",
     "output_type": "stream",
     "text": [
      "2\n"
     ]
    }
   ],
   "source": [
    "def count_pairs_with_sum_simple(list, target_sum):\n",
    "  count = 0\n",
    "  for i in range(len(lst)):\n",
    "    for j in range(i + 1, len(lst)):  \n",
    "      if lst[i] + lst[j] == target_sum:\n",
    "        count += 1\n",
    "  return count\n",
    "\n",
    "\n",
    "list = [2, 7, 4, 1, 3, 6]\n",
    "target_sum = 10\n",
    "number_of_pairs = count_pairs_with_sum_simple(list, target_sum)\n",
    "print(number_of_pairs) "
   ]
  },
  {
   "cell_type": "markdown",
   "id": "503495db",
   "metadata": {},
   "source": [
    "Q2.Write a program that takes a list of real numbers as input and returns the range (difference between minimum and maximum) of the list. Check for list being less than 3 elements in which case return an error message (Ex: “Range determination not possible”). Given a list [5,3,8,1,0,4], the range is 8 (8-0)."
   ]
  },
  {
   "cell_type": "code",
   "execution_count": 6,
   "id": "d58fcaa9",
   "metadata": {},
   "outputs": [
    {
     "name": "stdout",
     "output_type": "stream",
     "text": [
      "8\n",
      "Range determination not possible\n"
     ]
    }
   ],
   "source": [
    "def find_range(numbers):\n",
    "\n",
    "  if len(numbers) < 3:\n",
    "    return \"Range determination not possible\"\n",
    "\n",
    "  min_value = numbers[0]  \n",
    "  max_value = numbers[0]\n",
    "\n",
    "  for num in numbers:\n",
    "    if num < min_value:\n",
    "      min_value = num\n",
    "    if num > max_value:\n",
    "      max_value = num\n",
    "\n",
    "  range_value = max_value - min_value\n",
    "  return range_value\n",
    "\n",
    "# Example usage\n",
    "numbers = [5, 3, 8, 1, 0, 4]\n",
    "result = find_range(numbers)\n",
    "print(result)  \n",
    "\n",
    "numbers2 = [1, 2]\n",
    "result2 = find_range(numbers2)\n",
    "print(result2)  "
   ]
  },
  {
   "cell_type": "markdown",
   "id": "3553f6cd",
   "metadata": {},
   "source": [
    "Q3.Write a program that accepts a square matrix A and a positive integer m as arguments and returns Am."
   ]
  },
  {
   "cell_type": "code",
   "execution_count": 10,
   "id": "bc31d32c",
   "metadata": {},
   "outputs": [
    {
     "name": "stdout",
     "output_type": "stream",
     "text": [
      "[37, 54]\n",
      "[81, 118]\n"
     ]
    }
   ],
   "source": [
    "def matrix_power_simple(A, m):\n",
    "    n = len(A)\n",
    "\n",
    "    if m == 1:\n",
    "        return A\n",
    "\n",
    "    result = A\n",
    "\n",
    "    for _ in range(1, m ):\n",
    "        result = matrix_multiply(result, A)\n",
    "\n",
    "    return result\n",
    "\n",
    "def matrix_multiply(A, B):\n",
    "\n",
    "    n = len(A)\n",
    "    C = [[0 for _ in range(n)] for _ in range(n)]\n",
    "\n",
    "    for i in range(n):\n",
    "        for j in range(n):\n",
    "            for k in range(n):\n",
    "                C[i][j] += A[i][k] * B[k][j]\n",
    "\n",
    "    return C\n",
    "\n",
    "# Example \n",
    "A = [[1, 2],\n",
    "     [3, 4]]\n",
    "m = 3\n",
    "\n",
    "result = matrix_power_simple(A, m)\n",
    "\n",
    "for row in result:\n",
    "    print(row)"
   ]
  },
  {
   "cell_type": "markdown",
   "id": "569bf78f",
   "metadata": {},
   "source": [
    "Q4.Write a program to count the highest occurring character & its occurrence count in an input string. Consider only alphabets. Ex:  for “hippopotamus” as input string, the maximally occurring character is ‘p’ & occurrence count is 3."
   ]
  },
  {
   "cell_type": "code",
   "execution_count": 11,
   "id": "d07c0fb9",
   "metadata": {},
   "outputs": [
    {
     "name": "stdout",
     "output_type": "stream",
     "text": [
      "Highest occurring character: p (Count: 3)\n"
     ]
    }
   ],
   "source": [
    "def find_highest_occurring_char(input_string):\n",
    "\n",
    "    lower_string = input_string.lower()\n",
    "\n",
    "    \n",
    "    char_counts = {}\n",
    "    for char in lower_string:\n",
    "        if char.isalpha():  \n",
    "            if char in char_counts:\n",
    "                char_counts[char] += 1\n",
    "            else:\n",
    "                char_counts[char] = 1\n",
    "\n",
    "    \n",
    "    highest_count = 0\n",
    "    highest_char = None\n",
    "    for char, count in char_counts.items():\n",
    "        if count > highest_count:\n",
    "            highest_count = count\n",
    "            highest_char = char\n",
    "\n",
    "    return highest_char, highest_count\n",
    "\n",
    "# Example \n",
    "input_string = \"hippopotamus\"\n",
    "highest_char, highest_count = find_highest_occurring_char(input_string)\n",
    "\n",
    "print(f\"Highest occurring character: {highest_char} (Count: {highest_count})\")"
   ]
  }
 ],
 "metadata": {
  "kernelspec": {
   "display_name": "Python 3",
   "language": "python",
   "name": "python3"
  },
  "language_info": {
   "codemirror_mode": {
    "name": "ipython",
    "version": 3
   },
   "file_extension": ".py",
   "mimetype": "text/x-python",
   "name": "python",
   "nbconvert_exporter": "python",
   "pygments_lexer": "ipython3",
   "version": "3.12.5"
  }
 },
 "nbformat": 4,
 "nbformat_minor": 5
}
