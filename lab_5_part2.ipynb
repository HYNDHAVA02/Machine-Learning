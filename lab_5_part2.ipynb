{
 "cells": [
  {
   "cell_type": "code",
   "execution_count": 2,
   "id": "4542471e",
   "metadata": {},
   "outputs": [],
   "source": [
    "import pandas as pd\n",
    "\n",
    "# Load the Excel file\n",
    "file_path = 'test.xlsx'\n",
    "data = pd.read_excel(file_path)"
   ]
  },
  {
   "cell_type": "code",
   "execution_count": 3,
   "id": "04ff376c",
   "metadata": {},
   "outputs": [
    {
     "name": "stdout",
     "output_type": "stream",
     "text": [
      "Training predictions: [2 2 0 0 1 2 2 2 1 1 2 2 2 0 1 0 2 2 2 2 2 2 0 2 1 2 2 2 0 0 2 0 2 2 2 0 2\n",
      " 2 1 1 1 0 0 0 2 2 2 0 2 1 0 0 0 0 2 0 2 1 0 2 0 2 1 0 0 0 1 1 0 2 0 0 0 2\n",
      " 0 1 1 2 2 2 1 1 1 0 1 1 0 2 2 2 0 0 1 1 0 2 2 1 0 2 0 2 0 0 1 1 2 0 2 2 1\n",
      " 2 0 2 2 2 2 2 1 1 2 2 0 1 2 0 2 2 0 1 0 0 2 2 2 1 0 0 2 0 0 2 1 2 0 0 1 1\n",
      " 2 1 2 2 1 2 2 2 0 0 2 0 1 2 0 0 0 1 2 0 0 0 2 2 2 2 2 1 1 0 0 1 0 0 0 1 2\n",
      " 0 2 2 0 1 2 2 2 0 1 2 2 0 0 2 2 2 2 0 1 1 0 1 1 0 0 1 2 1 2 1 2 2 1 1 2 1\n",
      " 2 1 2 0 1 2 2 1 1 1 0 2 2 0 0 2 2 0 2 0 1 2 0 1 2 1 0 2 0 2 2 1 0 1 2 1 2\n",
      " 0 1 0 0 0 0 0 2 2 2 2 2 1 1 2 0 2 0 2 2 2 0 0 1 1 1 2 0 1 1 2 0 1 2 0 2 2\n",
      " 2 2 0 2 2 2 2 2 2 1 1 1 0 2 2 2 0 0 0 2 2 1 2 2 0 2 1 1 1 0 0 2 2 0 0 0 2\n",
      " 0 2 1 0 2 1 2 0 1 1 0 1 2 0 2 1 2 0 2 0 2 1 2 2 1 2 2 2 1 0 2 1 2 2 1 2 1\n",
      " 2 2 0 2 0 2 2 2 2 1 0 0 2 0 2 0 2 2 0 0 0 2 1 0 0 0 1 2 0 0 2 0 1 1 2 2 2\n",
      " 2 0 2 2 0 1 2 2 1 0 2 2 0 2 0 1 2 2 2 1 0 2 2 2 0 0 0 1 0 1 2 2 2 2 1 2 2\n",
      " 2 0 2 0 0 2 0 1 2 2 2 2 1 2 1 2 1 0 2 2 2 1 2 0 0 2 2 0 2 1 2 0 2 2 2 1 2\n",
      " 2 1 0 2 0 2 2 0 0 1 2 0 2 0 1 2 0 0 2 2 2 2 0 2 2 1 1 2 2 1 0 2 2 1 0 0 0\n",
      " 1 1 2 2 2 0 0 1 1 1 1 2 1 2 2 2 0 2 2 2 1 2 2 2 2 1 0 1 0 2]\n"
     ]
    }
   ],
   "source": [
    "import pandas as pd\n",
    "from sklearn.linear_model import LogisticRegression\n",
    "from sklearn.feature_extraction.text import TfidfVectorizer\n",
    "from sklearn.preprocessing import LabelEncoder\n",
    "from sklearn.model_selection import train_test_split\n",
    "\n",
    "# Load the Excel file\n",
    "file_path = 'test.xlsx'  \n",
    "data = pd.read_excel(file_path)\n",
    "# Convert non-string entries to strings\n",
    "data['Text'] = data['Text'].fillna('').astype(str)\n",
    "# Encode the text data into numerical features using TF-IDF\n",
    "vectorizer = TfidfVectorizer(max_features=100)\n",
    "X = vectorizer.fit_transform(data['Text'])\n",
    "# Encode the target variable\n",
    "label_encoder = LabelEncoder()\n",
    "y = label_encoder.fit_transform(data['Type'])\n",
    "# Split the data into training and testing sets\n",
    "X_train, X_test, y_train, y_test = train_test_split(X, y, test_size=0.2, random_state=42)\n",
    "# Train a Logistic Regression model\n",
    "model = LogisticRegression()\n",
    "model.fit(X_train, y_train)\n",
    "# Predict on the training set\n",
    "y_train_pred = model.predict(X_train)\n",
    "\n",
    "# Display predictions (optional)\n",
    "print(\"Training predictions:\", y_train_pred)\n"
   ]
  },
  {
   "cell_type": "code",
   "execution_count": 4,
   "id": "9b5ecf89",
   "metadata": {},
   "outputs": [
    {
     "name": "stdout",
     "output_type": "stream",
     "text": [
      "Accuracy: 0.7445255474452555\n",
      "Precision: 0.7630090390502584\n",
      "Recall: 0.7445255474452555\n",
      "F1 Score: 0.7421170069557016\n"
     ]
    }
   ],
   "source": [
    "from sklearn.metrics import accuracy_score, precision_score, recall_score, f1_score\n",
    "\n",
    "# Predictions on the test set\n",
    "y_test_pred = model.predict(X_test)\n",
    "\n",
    "# Calculate accuracy, precision, recall, and F1 score\n",
    "accuracy = accuracy_score(y_test, y_test_pred)\n",
    "precision = precision_score(y_test, y_test_pred, average='weighted')\n",
    "recall = recall_score(y_test, y_test_pred, average='weighted')\n",
    "f1 = f1_score(y_test, y_test_pred, average='weighted')\n",
    "\n",
    "print(f\"Accuracy: {accuracy}\")\n",
    "print(f\"Precision: {precision}\")\n",
    "print(f\"Recall: {recall}\")\n",
    "print(f\"F1 Score: {f1}\")\n"
   ]
  },
  {
   "cell_type": "code",
   "execution_count": 5,
   "id": "8f2b0a2f",
   "metadata": {},
   "outputs": [],
   "source": [
    "from sklearn.cluster import KMeans\n",
    "\n",
    "# Perform K-Means clustering (ignore the target variable)\n",
    "kmeans = KMeans(n_clusters=2, random_state=0, n_init=\"auto\").fit(X_train)\n",
    "\n",
    "# Cluster labels and cluster centers\n",
    "labels = kmeans.labels_\n",
    "centers = kmeans.cluster_centers_\n"
   ]
  },
  {
   "cell_type": "code",
   "execution_count": 6,
   "id": "343d0ee1",
   "metadata": {},
   "outputs": [
    {
     "name": "stdout",
     "output_type": "stream",
     "text": [
      "Silhouette Score: 0.09876611201483569\n",
      "Calinski-Harabasz Score: 41.91578503991779\n",
      "Davies-Bouldin Score: 1.370408586760802\n"
     ]
    }
   ],
   "source": [
    "from sklearn.metrics import silhouette_score, calinski_harabasz_score, davies_bouldin_score\n",
    "from sklearn.cluster import KMeans\n",
    "\n",
    "# Perform KMeans clustering with explicit n_init parameter\n",
    "kmeans = KMeans(n_clusters=2, n_init=10, random_state=42).fit(X_train)\n",
    "\n",
    "# Get the labels from the clustering\n",
    "labels = kmeans.labels_\n",
    "\n",
    "# Convert sparse matrix to dense for metric calculations\n",
    "X_train_dense = X_train.toarray()\n",
    "\n",
    "# Calculate clustering evaluation metrics\n",
    "silhouette = silhouette_score(X_train_dense, labels)\n",
    "calinski_harabasz = calinski_harabasz_score(X_train_dense, labels)\n",
    "davies_bouldin = davies_bouldin_score(X_train_dense, labels)\n",
    "\n",
    "print(f\"Silhouette Score: {silhouette}\")\n",
    "print(f\"Calinski-Harabasz Score: {calinski_harabasz}\")\n",
    "print(f\"Davies-Bouldin Score: {davies_bouldin}\")\n"
   ]
  },
  {
   "cell_type": "code",
   "execution_count": 7,
   "id": "393b3c90",
   "metadata": {},
   "outputs": [
    {
     "name": "stdout",
     "output_type": "stream",
     "text": [
      "Silhouette Score for k=2: 0.10065848052909813\n",
      "Silhouette Score for k=3: 0.11428121675054968\n",
      "Silhouette Score for k=4: 0.10379011525698047\n",
      "Silhouette Score for k=5: 0.11454343359879682\n",
      "Silhouette Score for k=6: 0.11298435868360764\n",
      "Silhouette Score for k=7: 0.10996903309981101\n",
      "Silhouette Score for k=8: 0.11824424760729677\n",
      "Silhouette Score for k=9: 0.12091715852935095\n"
     ]
    }
   ],
   "source": [
    "# Evaluate different values of k\n",
    "for k in range(2, 10):\n",
    "    kmeans = KMeans(n_clusters=k, random_state=0, n_init=\"auto\").fit(X_train)\n",
    "    silhouette = silhouette_score(X_train, kmeans.labels_)\n",
    "    print(f\"Silhouette Score for k={k}: {silhouette}\")\n"
   ]
  },
  {
   "cell_type": "code",
   "execution_count": 8,
   "id": "bb4ea592",
   "metadata": {},
   "outputs": [
    {
     "data": {
      "image/png": "[encoded data removed]",
      "text/plain": [
       "<Figure size 800x500 with 1 Axes>"
      ]
     },
     "metadata": {},
     "output_type": "display_data"
    }
   ],
   "source": [
    "import matplotlib.pyplot as plt\n",
    "\n",
    "distortions = []\n",
    "K = range(2, 20)\n",
    "\n",
    "for k in K:\n",
    "    kmeans = KMeans(n_clusters=k, random_state=0, n_init=\"auto\").fit(X_train)\n",
    "    distortions.append(kmeans.inertia_)\n",
    "\n",
    "# Plotting the elbow plot\n",
    "plt.figure(figsize=(8, 5))\n",
    "plt.plot(K, distortions, 'bx-')\n",
    "plt.xlabel('k')\n",
    "plt.ylabel('Distortion')\n",
    "plt.title('The Elbow Method showing the optimal k')\n",
    "plt.show()\n"
   ]
  },
  {
   "cell_type": "code",
   "execution_count": null,
   "id": "2bfbe979",
   "metadata": {},
   "outputs": [],
   "source": []
  }
 ],
 "metadata": {
  "kernelspec": {
   "display_name": "Python 3 (ipykernel)",
   "language": "python",
   "name": "python3"
  },
  "language_info": {
   "codemirror_mode": {
    "name": "ipython",
    "version": 3
   },
   "file_extension": ".py",
   "mimetype": "text/x-python",
   "name": "python",
   "nbconvert_exporter": "python",
   "pygments_lexer": "ipython3",
   "version": "3.12.5"
  }
 },
 "nbformat": 4,
 "nbformat_minor": 5
}
